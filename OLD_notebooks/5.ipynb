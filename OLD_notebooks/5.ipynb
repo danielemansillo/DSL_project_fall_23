{
 "cells": [
  {
   "cell_type": "markdown",
   "metadata": {},
   "source": [
    "# Preprocessing"
   ]
  },
  {
   "cell_type": "markdown",
   "metadata": {},
   "source": [
    "## Load the datasets"
   ]
  },
  {
   "cell_type": "code",
   "execution_count": 7,
   "metadata": {},
   "outputs": [],
   "source": [
    "import pandas as pd\n",
    "\n",
    "df_dev = pd.read_csv(\"fall_project_dataset/development.csv\", index_col=0)\n",
    "df_eval = pd.read_csv(\"fall_project_dataset/evaluation.csv\", index_col=0)"
   ]
  },
  {
   "cell_type": "markdown",
   "metadata": {},
   "source": [
    "## Reduce the cardinality of the OCCP column\n",
    "\n",
    "We map the OCCP column code to its text representation and we keep only the first 3 characters"
   ]
  },
  {
   "cell_type": "code",
   "execution_count": 8,
   "metadata": {},
   "outputs": [],
   "source": [
    "import csv\n",
    "\n",
    "# Create a dictionary from the OCCP code to the text representation\n",
    "reader = csv.reader(open('produced_documents/occp_to_string.csv', 'r'), delimiter=';')\n",
    "d = {}\n",
    "for row in reader:\n",
    "   k, v = row\n",
    "   k = float(k)\n",
    "   d[k] = v\n",
    "\n",
    "# Map the OCCP column to its text values\n",
    "df_dev[\"OCCP\"] = df_dev[\"OCCP\"].map(d)\n",
    "\n",
    "# Keep only the first 3 characters \n",
    "df_dev[\"OCCP\"] = df_dev[\"OCCP\"].apply(lambda occp : occp[0:3])"
   ]
  },
  {
   "cell_type": "markdown",
   "metadata": {},
   "source": [
    "## Prepare the preprocessing pipeline\n",
    "\n",
    "We normalize the numeric features and one-hot encode the categorical ones"
   ]
  },
  {
   "cell_type": "code",
   "execution_count": 9,
   "metadata": {},
   "outputs": [],
   "source": [
    "from sklearn.preprocessing import StandardScaler, OneHotEncoder\n",
    "from sklearn.compose import ColumnTransformer\n",
    "\n",
    "numeric_features = ['PINCP', 'WKHP']\n",
    "numeric_transformer = StandardScaler()\n",
    "\n",
    "all_categorical_features = ['FDEYEP', 'ENG', 'OC', 'COW', 'HICOV', 'LANP', 'FER', 'MIGSP', 'SCHL', 'MIG', 'VPS', 'MIL', 'MAR', 'OCCP', 'PAOC', 'PUBCOV', 'DEAR', 'JWAP', 'JWDP', 'POBP', 'SEX', 'RAC1P']\n",
    "features_to_drop = [\"SCHL\", \"POBP\", \"RAC1P\", \"MIG\", \"MIGSP\", \"LANP\", \"PAOC\", \"VPS\", \"DEAR\", \"FER\"]\n",
    "# [\"SCHL\", \"POBP\", \"RAC1P\", \"MIG\" (?), \"MIGSP\", \"LANP\", \"PAOC\", \"VPS\" (?), \"DEAR\", \"FER\"]\n",
    "categorical_features = set(all_categorical_features) ^ set(features_to_drop)\n",
    "categorical_features = ['COW', 'ENG', 'FDEYEP', 'HICOV', 'JWAP', 'JWDP', 'MAR', 'MIL', 'OC', 'OCCP', 'PUBCOV', 'SEX']\n",
    "df_dev = df_dev.drop(features_to_drop, axis=1)\n",
    "categorical_features\n",
    "\n",
    "categorical_transformer = OneHotEncoder(handle_unknown='ignore')\n",
    "\n",
    "preprocessor = ColumnTransformer(\n",
    "    transformers=[\n",
    "        ('num', numeric_transformer, numeric_features),\n",
    "        ('cat', categorical_transformer, categorical_features)])"
   ]
  },
  {
   "cell_type": "markdown",
   "metadata": {},
   "source": [
    "## Train-test split"
   ]
  },
  {
   "cell_type": "code",
   "execution_count": 10,
   "metadata": {},
   "outputs": [
    {
     "name": "stdout",
     "output_type": "stream",
     "text": [
      "[(1.0, 704), (2.0, 649), (3.0, 547), (4.0, 217), (5.0, 5124), (6.0, 392), (7.0, 995), (8.0, 825), (9.0, 137), (10.0, 10669), (11.0, 121), (12.0, 963), (13.0, 230), (14.0, 112), (15.0, 13916), (16.0, 116), (17.0, 285), (18.0, 337), (19.0, 42), (20.0, 13569), (21.0, 44), (22.0, 217), (23.0, 116), (24.0, 59), (25.0, 6067), (26.0, 50), (27.0, 66), (28.0, 101), (29.0, 18), (30.0, 14124), (31.0, 7), (32.0, 61), (33.0, 25), (34.0, 30), (35.0, 2721), (36.0, 20), (37.0, 34), (38.0, 40), (39.0, 9), (40.0, 3799), (41.0, 1), (42.0, 32), (43.0, 6), (44.0, 7), (45.0, 5515), (46.0, 13), (47.0, 13), (48.0, 28), (49.0, 8), (50.0, 1483), (51.0, 3), (52.0, 8), (53.0, 5), (54.0, 4), (55.0, 388), (56.0, 16), (57.0, 3), (58.0, 19), (59.0, 25), (60.0, 4779), (61.0, 4), (62.0, 10), (63.0, 5), (64.0, 3), (65.0, 173), (66.0, 9), (67.0, 5), (68.0, 11), (69.0, 6), (70.0, 325), (72.0, 8), (73.0, 1), (74.0, 2), (75.0, 498), (76.0, 1), (77.0, 1), (78.0, 4), (80.0, 225), (83.0, 1), (85.0, 32), (87.0, 3), (88.0, 2), (89.0, 1), (90.0, 1306), (93.0, 1), (94.0, 1), (95.0, 31), (97.0, 2), (98.0, 3), (99.0, 12), (100.0, 133), (101.0, 1), (105.0, 44), (110.0, 34), (111.0, 1), (112.0, 1), (115.0, 13), (141.0, 1350)]\n"
     ]
    }
   ],
   "source": [
    "from sklearn.model_selection import train_test_split\n",
    "from collections import Counter\n",
    "\n",
    "X = df_dev.drop(columns=[\"JWMNP\"])\n",
    "y = df_dev[\"JWMNP\"]\n",
    "\n",
    "X_train, X_test, y_train, y_test = train_test_split(X, y, test_size=0.1, random_state=42)\n",
    "\n",
    "actual_samples = sorted(Counter(y_train).items())\n",
    "\n",
    "# Print the number of samples in each class\n",
    "print(actual_samples)"
   ]
  },
  {
   "cell_type": "markdown",
   "metadata": {},
   "source": [
    "## Apply RandomOverSamples\n",
    "\n",
    "We apply RandomOverSampler on the training dataset to slightly increase the number of samples in the minority classes in order to make SMOTENC work correctly"
   ]
  },
  {
   "cell_type": "code",
   "execution_count": 11,
   "metadata": {},
   "outputs": [
    {
     "name": "stdout",
     "output_type": "stream",
     "text": [
      "[(1.0, 704), (2.0, 649), (3.0, 547), (4.0, 217), (5.0, 5124), (6.0, 392), (7.0, 995), (8.0, 825), (9.0, 137), (10.0, 10669), (11.0, 121), (12.0, 963), (13.0, 230), (14.0, 112), (15.0, 13916), (16.0, 116), (17.0, 285), (18.0, 337), (19.0, 42), (20.0, 13569), (21.0, 44), (22.0, 217), (23.0, 116), (24.0, 59), (25.0, 6067), (26.0, 50), (27.0, 66), (28.0, 101), (29.0, 18), (30.0, 14124), (31.0, 10), (32.0, 61), (33.0, 25), (34.0, 30), (35.0, 2721), (36.0, 20), (37.0, 34), (38.0, 40), (39.0, 10), (40.0, 3799), (41.0, 10), (42.0, 32), (43.0, 10), (44.0, 10), (45.0, 5515), (46.0, 13), (47.0, 13), (48.0, 28), (49.0, 10), (50.0, 1483), (51.0, 10), (52.0, 10), (53.0, 10), (54.0, 10), (55.0, 388), (56.0, 16), (57.0, 10), (58.0, 19), (59.0, 25), (60.0, 4779), (61.0, 10), (62.0, 10), (63.0, 10), (64.0, 10), (65.0, 173), (66.0, 10), (67.0, 10), (68.0, 11), (69.0, 10), (70.0, 325), (72.0, 10), (73.0, 10), (74.0, 10), (75.0, 498), (76.0, 10), (77.0, 10), (78.0, 10), (80.0, 225), (83.0, 10), (85.0, 32), (87.0, 10), (88.0, 10), (89.0, 10), (90.0, 1306), (93.0, 10), (94.0, 10), (95.0, 31), (97.0, 10), (98.0, 10), (99.0, 12), (100.0, 133), (101.0, 10), (105.0, 44), (110.0, 34), (111.0, 10), (112.0, 10), (115.0, 13), (141.0, 1350)]\n"
     ]
    }
   ],
   "source": [
    "from imblearn.over_sampling import RandomOverSampler\n",
    "\n",
    "desired_samples = {k: v if v >=10 else 10 for k, v in actual_samples}\n",
    "# desired_samples = {k: v if v >=int(len(y_train)/len(Counter(y_train))) else int(len(y_train)/len(Counter(y_train))) for k, v in actual_samples}\n",
    "\n",
    "ros = RandomOverSampler(random_state=42, sampling_strategy=desired_samples)\n",
    "X_resampled, y_resampled = ros.fit_resample(X_train, y_train)\n",
    "\n",
    "# Print the number of samples in each class\n",
    "print(sorted(Counter(y_resampled).items()))"
   ]
  },
  {
   "cell_type": "markdown",
   "metadata": {},
   "source": [
    "## Apply SMOTENC\n",
    "\n",
    "We apply SMOTENC (Synthetic Minority Over-sampling Technique for Nominal and Continuous) on the training dataset to increase the number of samples in the minority classes"
   ]
  },
  {
   "cell_type": "code",
   "execution_count": 12,
   "metadata": {},
   "outputs": [],
   "source": [
    "# from imblearn.over_sampling import SMOTENC\n",
    "\n",
    "# desired_samples = {k: v if v >=int(len(y_train)/len(Counter(y_train))) else int(len(y_train)/len(Counter(y_train))) for k, v in desired_samples.items()}\n",
    "\n",
    "# # smote_nc = SMOTENC(categorical_features, random_state=42)\n",
    "# smote_nc = SMOTENC(categorical_features, random_state=42, sampling_strategy=desired_samples)\n",
    "# X_resampled_nc, y_resampled_nc = smote_nc.fit_resample(X_resampled, y_resampled)\n",
    "\n",
    "# # Print the number of samples in each class\n",
    "# print(sorted(Counter(y_resampled_nc).items()))"
   ]
  },
  {
   "cell_type": "markdown",
   "metadata": {},
   "source": [
    "# Pipeline definition and fit"
   ]
  },
  {
   "cell_type": "code",
   "execution_count": 16,
   "metadata": {},
   "outputs": [
    {
     "data": {
      "text/html": [
       "<style>#sk-container-id-2 {color: black;}#sk-container-id-2 pre{padding: 0;}#sk-container-id-2 div.sk-toggleable {background-color: white;}#sk-container-id-2 label.sk-toggleable__label {cursor: pointer;display: block;width: 100%;margin-bottom: 0;padding: 0.3em;box-sizing: border-box;text-align: center;}#sk-container-id-2 label.sk-toggleable__label-arrow:before {content: \"▸\";float: left;margin-right: 0.25em;color: #696969;}#sk-container-id-2 label.sk-toggleable__label-arrow:hover:before {color: black;}#sk-container-id-2 div.sk-estimator:hover label.sk-toggleable__label-arrow:before {color: black;}#sk-container-id-2 div.sk-toggleable__content {max-height: 0;max-width: 0;overflow: hidden;text-align: left;background-color: #f0f8ff;}#sk-container-id-2 div.sk-toggleable__content pre {margin: 0.2em;color: black;border-radius: 0.25em;background-color: #f0f8ff;}#sk-container-id-2 input.sk-toggleable__control:checked~div.sk-toggleable__content {max-height: 200px;max-width: 100%;overflow: auto;}#sk-container-id-2 input.sk-toggleable__control:checked~label.sk-toggleable__label-arrow:before {content: \"▾\";}#sk-container-id-2 div.sk-estimator input.sk-toggleable__control:checked~label.sk-toggleable__label {background-color: #d4ebff;}#sk-container-id-2 div.sk-label input.sk-toggleable__control:checked~label.sk-toggleable__label {background-color: #d4ebff;}#sk-container-id-2 input.sk-hidden--visually {border: 0;clip: rect(1px 1px 1px 1px);clip: rect(1px, 1px, 1px, 1px);height: 1px;margin: -1px;overflow: hidden;padding: 0;position: absolute;width: 1px;}#sk-container-id-2 div.sk-estimator {font-family: monospace;background-color: #f0f8ff;border: 1px dotted black;border-radius: 0.25em;box-sizing: border-box;margin-bottom: 0.5em;}#sk-container-id-2 div.sk-estimator:hover {background-color: #d4ebff;}#sk-container-id-2 div.sk-parallel-item::after {content: \"\";width: 100%;border-bottom: 1px solid gray;flex-grow: 1;}#sk-container-id-2 div.sk-label:hover label.sk-toggleable__label {background-color: #d4ebff;}#sk-container-id-2 div.sk-serial::before {content: \"\";position: absolute;border-left: 1px solid gray;box-sizing: border-box;top: 0;bottom: 0;left: 50%;z-index: 0;}#sk-container-id-2 div.sk-serial {display: flex;flex-direction: column;align-items: center;background-color: white;padding-right: 0.2em;padding-left: 0.2em;position: relative;}#sk-container-id-2 div.sk-item {position: relative;z-index: 1;}#sk-container-id-2 div.sk-parallel {display: flex;align-items: stretch;justify-content: center;background-color: white;position: relative;}#sk-container-id-2 div.sk-item::before, #sk-container-id-2 div.sk-parallel-item::before {content: \"\";position: absolute;border-left: 1px solid gray;box-sizing: border-box;top: 0;bottom: 0;left: 50%;z-index: -1;}#sk-container-id-2 div.sk-parallel-item {display: flex;flex-direction: column;z-index: 1;position: relative;background-color: white;}#sk-container-id-2 div.sk-parallel-item:first-child::after {align-self: flex-end;width: 50%;}#sk-container-id-2 div.sk-parallel-item:last-child::after {align-self: flex-start;width: 50%;}#sk-container-id-2 div.sk-parallel-item:only-child::after {width: 0;}#sk-container-id-2 div.sk-dashed-wrapped {border: 1px dashed gray;margin: 0 0.4em 0.5em 0.4em;box-sizing: border-box;padding-bottom: 0.4em;background-color: white;}#sk-container-id-2 div.sk-label label {font-family: monospace;font-weight: bold;display: inline-block;line-height: 1.2em;}#sk-container-id-2 div.sk-label-container {text-align: center;}#sk-container-id-2 div.sk-container {/* jupyter's `normalize.less` sets `[hidden] { display: none; }` but bootstrap.min.css set `[hidden] { display: none !important; }` so we also need the `!important` here to be able to override the default hidden behavior on the sphinx rendered scikit-learn.org. See: https://github.com/scikit-learn/scikit-learn/issues/21755 */display: inline-block !important;position: relative;}#sk-container-id-2 div.sk-text-repr-fallback {display: none;}</style><div id=\"sk-container-id-2\" class=\"sk-top-container\"><div class=\"sk-text-repr-fallback\"><pre>Pipeline(steps=[(&#x27;preprocessor&#x27;,\n",
       "                 ColumnTransformer(transformers=[(&#x27;num&#x27;, StandardScaler(),\n",
       "                                                  [&#x27;PINCP&#x27;, &#x27;WKHP&#x27;]),\n",
       "                                                 (&#x27;cat&#x27;,\n",
       "                                                  OneHotEncoder(handle_unknown=&#x27;ignore&#x27;),\n",
       "                                                  [&#x27;COW&#x27;, &#x27;ENG&#x27;, &#x27;FDEYEP&#x27;,\n",
       "                                                   &#x27;HICOV&#x27;, &#x27;JWAP&#x27;, &#x27;JWDP&#x27;,\n",
       "                                                   &#x27;MAR&#x27;, &#x27;MIL&#x27;, &#x27;OC&#x27;, &#x27;OCCP&#x27;,\n",
       "                                                   &#x27;PUBCOV&#x27;, &#x27;SEX&#x27;])])),\n",
       "                (&#x27;regressor&#x27;,\n",
       "                 RandomForestRegressor(n_jobs=6, random_state=42))])</pre><b>In a Jupyter environment, please rerun this cell to show the HTML representation or trust the notebook. <br />On GitHub, the HTML representation is unable to render, please try loading this page with nbviewer.org.</b></div><div class=\"sk-container\" hidden><div class=\"sk-item sk-dashed-wrapped\"><div class=\"sk-label-container\"><div class=\"sk-label sk-toggleable\"><input class=\"sk-toggleable__control sk-hidden--visually\" id=\"sk-estimator-id-8\" type=\"checkbox\" ><label for=\"sk-estimator-id-8\" class=\"sk-toggleable__label sk-toggleable__label-arrow\">Pipeline</label><div class=\"sk-toggleable__content\"><pre>Pipeline(steps=[(&#x27;preprocessor&#x27;,\n",
       "                 ColumnTransformer(transformers=[(&#x27;num&#x27;, StandardScaler(),\n",
       "                                                  [&#x27;PINCP&#x27;, &#x27;WKHP&#x27;]),\n",
       "                                                 (&#x27;cat&#x27;,\n",
       "                                                  OneHotEncoder(handle_unknown=&#x27;ignore&#x27;),\n",
       "                                                  [&#x27;COW&#x27;, &#x27;ENG&#x27;, &#x27;FDEYEP&#x27;,\n",
       "                                                   &#x27;HICOV&#x27;, &#x27;JWAP&#x27;, &#x27;JWDP&#x27;,\n",
       "                                                   &#x27;MAR&#x27;, &#x27;MIL&#x27;, &#x27;OC&#x27;, &#x27;OCCP&#x27;,\n",
       "                                                   &#x27;PUBCOV&#x27;, &#x27;SEX&#x27;])])),\n",
       "                (&#x27;regressor&#x27;,\n",
       "                 RandomForestRegressor(n_jobs=6, random_state=42))])</pre></div></div></div><div class=\"sk-serial\"><div class=\"sk-item sk-dashed-wrapped\"><div class=\"sk-label-container\"><div class=\"sk-label sk-toggleable\"><input class=\"sk-toggleable__control sk-hidden--visually\" id=\"sk-estimator-id-9\" type=\"checkbox\" ><label for=\"sk-estimator-id-9\" class=\"sk-toggleable__label sk-toggleable__label-arrow\">preprocessor: ColumnTransformer</label><div class=\"sk-toggleable__content\"><pre>ColumnTransformer(transformers=[(&#x27;num&#x27;, StandardScaler(), [&#x27;PINCP&#x27;, &#x27;WKHP&#x27;]),\n",
       "                                (&#x27;cat&#x27;, OneHotEncoder(handle_unknown=&#x27;ignore&#x27;),\n",
       "                                 [&#x27;COW&#x27;, &#x27;ENG&#x27;, &#x27;FDEYEP&#x27;, &#x27;HICOV&#x27;, &#x27;JWAP&#x27;,\n",
       "                                  &#x27;JWDP&#x27;, &#x27;MAR&#x27;, &#x27;MIL&#x27;, &#x27;OC&#x27;, &#x27;OCCP&#x27;, &#x27;PUBCOV&#x27;,\n",
       "                                  &#x27;SEX&#x27;])])</pre></div></div></div><div class=\"sk-parallel\"><div class=\"sk-parallel-item\"><div class=\"sk-item\"><div class=\"sk-label-container\"><div class=\"sk-label sk-toggleable\"><input class=\"sk-toggleable__control sk-hidden--visually\" id=\"sk-estimator-id-10\" type=\"checkbox\" ><label for=\"sk-estimator-id-10\" class=\"sk-toggleable__label sk-toggleable__label-arrow\">num</label><div class=\"sk-toggleable__content\"><pre>[&#x27;PINCP&#x27;, &#x27;WKHP&#x27;]</pre></div></div></div><div class=\"sk-serial\"><div class=\"sk-item\"><div class=\"sk-estimator sk-toggleable\"><input class=\"sk-toggleable__control sk-hidden--visually\" id=\"sk-estimator-id-11\" type=\"checkbox\" ><label for=\"sk-estimator-id-11\" class=\"sk-toggleable__label sk-toggleable__label-arrow\">StandardScaler</label><div class=\"sk-toggleable__content\"><pre>StandardScaler()</pre></div></div></div></div></div></div><div class=\"sk-parallel-item\"><div class=\"sk-item\"><div class=\"sk-label-container\"><div class=\"sk-label sk-toggleable\"><input class=\"sk-toggleable__control sk-hidden--visually\" id=\"sk-estimator-id-12\" type=\"checkbox\" ><label for=\"sk-estimator-id-12\" class=\"sk-toggleable__label sk-toggleable__label-arrow\">cat</label><div class=\"sk-toggleable__content\"><pre>[&#x27;COW&#x27;, &#x27;ENG&#x27;, &#x27;FDEYEP&#x27;, &#x27;HICOV&#x27;, &#x27;JWAP&#x27;, &#x27;JWDP&#x27;, &#x27;MAR&#x27;, &#x27;MIL&#x27;, &#x27;OC&#x27;, &#x27;OCCP&#x27;, &#x27;PUBCOV&#x27;, &#x27;SEX&#x27;]</pre></div></div></div><div class=\"sk-serial\"><div class=\"sk-item\"><div class=\"sk-estimator sk-toggleable\"><input class=\"sk-toggleable__control sk-hidden--visually\" id=\"sk-estimator-id-13\" type=\"checkbox\" ><label for=\"sk-estimator-id-13\" class=\"sk-toggleable__label sk-toggleable__label-arrow\">OneHotEncoder</label><div class=\"sk-toggleable__content\"><pre>OneHotEncoder(handle_unknown=&#x27;ignore&#x27;)</pre></div></div></div></div></div></div></div></div><div class=\"sk-item\"><div class=\"sk-estimator sk-toggleable\"><input class=\"sk-toggleable__control sk-hidden--visually\" id=\"sk-estimator-id-14\" type=\"checkbox\" ><label for=\"sk-estimator-id-14\" class=\"sk-toggleable__label sk-toggleable__label-arrow\">RandomForestRegressor</label><div class=\"sk-toggleable__content\"><pre>RandomForestRegressor(n_jobs=6, random_state=42)</pre></div></div></div></div></div></div></div>"
      ],
      "text/plain": [
       "Pipeline(steps=[('preprocessor',\n",
       "                 ColumnTransformer(transformers=[('num', StandardScaler(),\n",
       "                                                  ['PINCP', 'WKHP']),\n",
       "                                                 ('cat',\n",
       "                                                  OneHotEncoder(handle_unknown='ignore'),\n",
       "                                                  ['COW', 'ENG', 'FDEYEP',\n",
       "                                                   'HICOV', 'JWAP', 'JWDP',\n",
       "                                                   'MAR', 'MIL', 'OC', 'OCCP',\n",
       "                                                   'PUBCOV', 'SEX'])])),\n",
       "                ('regressor',\n",
       "                 RandomForestRegressor(n_jobs=6, random_state=42))])"
      ]
     },
     "execution_count": 16,
     "metadata": {},
     "output_type": "execute_result"
    }
   ],
   "source": [
    "\n",
    "from sklearn.pipeline import Pipeline\n",
    "from sklearn.ensemble import RandomForestRegressor\n",
    "\n",
    "pipe = Pipeline(steps=[('preprocessor', preprocessor),\n",
    "                       ('regressor', RandomForestRegressor())])\n",
    "\n",
    "# pipe.fit(X_resampled_nc, y_resampled_nc)\n",
    "# pipe.fit(X_resampled, y_resampled)\n",
    "pipe.fit(X_train, y_train)"
   ]
  },
  {
   "cell_type": "markdown",
   "metadata": {},
   "source": [
    "# GridSearch\n",
    "\n",
    "Best params:  \n",
    "\n",
    "criterion: 'poisson' OR 'squared_error'\n",
    "max_features': 'sqrt',  # But probably None\n",
    "bootstrap: True,  \n",
    "max_depth: None,  \n",
    "min_samples_split: 2,  \n",
    "min_samples_leaf: 1"
   ]
  },
  {
   "cell_type": "code",
   "execution_count": 38,
   "metadata": {},
   "outputs": [
    {
     "name": "stderr",
     "output_type": "stream",
     "text": [
      "/Users/danielemansillo/Documents/PoliTo/DSL/DSL_project_fall_23/venv/lib/python3.11/site-packages/joblib/externals/loky/process_executor.py:752: UserWarning: A worker stopped while some jobs were given to the executor. This can be caused by a too short worker timeout or by a memory leak.\n",
      "  warnings.warn(\n"
     ]
    },
    {
     "name": "stdout",
     "output_type": "stream",
     "text": [
      "Best parameter (CV score=0.570)\n",
      "Best parameters: {'regressor__bootstrap': False, 'regressor__criterion': 'squared_error', 'regressor__max_depth': None, 'regressor__max_features': 'sqrt', 'regressor__min_samples_leaf': 1, 'regressor__min_samples_split': 2, 'regressor__n_estimators': 100}\n",
      "Best estimator score on test data: 0.621\n"
     ]
    }
   ],
   "source": [
    "from sklearn.model_selection import GridSearchCV\n",
    "from sklearn.ensemble import RandomForestRegressor\n",
    "\n",
    "pipe = Pipeline(steps=[('preprocessor', preprocessor),\n",
    "                       ('regressor', RandomForestRegressor())])\n",
    "\n",
    "param_grid={\n",
    "    'regressor__n_estimators': [10, 50, 100],       # Number of trees in the forest\n",
    "    'regressor__criterion': ['squared_error', 'friedman_mse', 'poisson'],\n",
    "    'regressor__max_features': ['sqrt', 'log2'],\n",
    "    'regressor__bootstrap': [True, False],\n",
    "    'regressor__max_depth': [None, 10, 20, 30],     # Maximum depth of the trees\n",
    "    'regressor__min_samples_split': [2, 5, 10],     # Minimum number of samples required to split a node\n",
    "    'regressor__min_samples_leaf': [1, 2, 4]        # Minimum number of samples required at each leaf node\n",
    "}\n",
    "\n",
    "search = GridSearchCV(pipe, param_grid, scoring='r2', n_jobs=8)\n",
    "\n",
    "search.fit(X_train, y_train)\n",
    "\n",
    "print(\"Best parameter (CV score=%0.3f)\" % search.best_score_)\n",
    "print(f\"Best parameters: {search.best_params_}\")\n",
    "print(\"Best estimator score on test data: %.3f\" % search.best_estimator_.score(X_test, y_test))"
   ]
  },
  {
   "cell_type": "code",
   "execution_count": 28,
   "metadata": {},
   "outputs": [
    {
     "data": {
      "text/plain": [
       "0.799686521508713"
      ]
     },
     "execution_count": 28,
     "metadata": {},
     "output_type": "execute_result"
    }
   ],
   "source": [
    "pipe = Pipeline(steps=[('preprocessor', preprocessor),\n",
    "                       ('regressor', RandomForestRegressor())])\n",
    "\n",
    "pipe.fit(X_train, y_train)\n",
    "pipe.score(X_test, y_test)"
   ]
  },
  {
   "cell_type": "markdown",
   "metadata": {},
   "source": [
    "# Results"
   ]
  },
  {
   "cell_type": "code",
   "execution_count": 30,
   "metadata": {},
   "outputs": [
    {
     "name": "stdout",
     "output_type": "stream",
     "text": [
      "0.7837014001331504\n",
      "0.7836799090728417\n"
     ]
    }
   ],
   "source": [
    "from sklearn.metrics import r2_score\n",
    "import numpy as np\n",
    "\n",
    "print(search.score(X_test, y_test))\n",
    "y_pred = np.rint(search.predict(X_test))\n",
    "print(r2_score(y_test, y_pred,))"
   ]
  },
  {
   "cell_type": "markdown",
   "metadata": {},
   "source": [
    "# Create the submission file"
   ]
  },
  {
   "cell_type": "code",
   "execution_count": null,
   "metadata": {},
   "outputs": [],
   "source": [
    "# TODO Check if the preprocessing to drop the columns is needed for df_eval\n",
    "y_pred2 = pipe.predict(df_eval)\n",
    "\n",
    "data = list(zip(df_eval.index, y_pred_2))\n",
    "\n",
    "# Save the data to a CSV file\n",
    "with open('submissions/submission_1.csv', 'w', newline='') as csvfile:\n",
    "    csvwriter = csv.writer(csvfile)\n",
    "    csvwriter.writerow(['Id', 'Predicted'])  # Header row\n",
    "    csvwriter.writerows(data)"
   ]
  }
 ],
 "metadata": {
  "kernelspec": {
   "display_name": "venv",
   "language": "python",
   "name": "python3"
  },
  "language_info": {
   "codemirror_mode": {
    "name": "ipython",
    "version": 3
   },
   "file_extension": ".py",
   "mimetype": "text/x-python",
   "name": "python",
   "nbconvert_exporter": "python",
   "pygments_lexer": "ipython3",
   "version": "3.11.5"
  },
  "orig_nbformat": 4
 },
 "nbformat": 4,
 "nbformat_minor": 2
}
