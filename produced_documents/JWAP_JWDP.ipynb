{
 "cells": [
  {
   "cell_type": "markdown",
   "metadata": {},
   "source": [
    "## Load the datasets\n",
    "\n",
    "After creating the file you should manually insert as second row of the csv: 0,0,0"
   ]
  },
  {
   "cell_type": "code",
   "execution_count": 11,
   "metadata": {},
   "outputs": [],
   "source": [
    "import pandas as pd\n",
    "from datetime import datetime\n",
    "\n",
    "jwap = pd.read_csv(\"JWAP_raw.csv\", index_col=0)\n",
    "\n",
    "# Function to convert a time string to a timestamp\n",
    "def get_minutes(time_str):\n",
    "    time_obj = datetime.strptime(time_str, \"%I:%M %p\")\n",
    "    return time_obj.hour * 60 + time_obj.minute\n",
    "\n",
    "# Apply the conversion function to the column\n",
    "jwap['begin'] = jwap['begin'].apply(get_minutes)\n",
    "jwap['end'] = jwap['end'].apply(get_minutes)\n",
    "jwap.to_csv(\"JWAP.csv\")"
   ]
  },
  {
   "cell_type": "code",
   "execution_count": 12,
   "metadata": {},
   "outputs": [],
   "source": [
    "jwdp = pd.read_csv(\"JWDP_raw.csv\", index_col=0)\n",
    "\n",
    "# Function to convert a time string to a timestamp\n",
    "def get_minutes(time_str):\n",
    "    time_obj = datetime.strptime(time_str, \"%I:%M %p\")\n",
    "    return time_obj.hour * 60 + time_obj.minute\n",
    "\n",
    "# Apply the conversion function to the column\n",
    "jwdp['begin'] = jwdp['begin'].apply(get_minutes)\n",
    "jwdp['end'] = jwdp['end'].apply(get_minutes)\n",
    "jwdp.to_csv(\"JWDP.csv\")"
   ]
  }
 ],
 "metadata": {
  "kernelspec": {
   "display_name": "venv",
   "language": "python",
   "name": "python3"
  },
  "language_info": {
   "codemirror_mode": {
    "name": "ipython",
    "version": 3
   },
   "file_extension": ".py",
   "mimetype": "text/x-python",
   "name": "python",
   "nbconvert_exporter": "python",
   "pygments_lexer": "ipython3",
   "version": "3.11.5"
  },
  "orig_nbformat": 4
 },
 "nbformat": 4,
 "nbformat_minor": 2
}
