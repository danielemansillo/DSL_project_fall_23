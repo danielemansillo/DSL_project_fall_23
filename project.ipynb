{
 "cells": [
  {
   "cell_type": "markdown",
   "metadata": {},
   "source": [
    "# Project Assignment September Call, A.Y. 2022/2023"
   ]
  },
  {
   "cell_type": "code",
   "execution_count": 2,
   "metadata": {},
   "outputs": [
    {
     "name": "stdout",
     "output_type": "stream",
     "text": [
      "Id\n",
      "0    CLN-First-Line Supervisors Of Housekeeping And...\n",
      "1                                         SAL-Cashiers\n",
      "2             SAL-Real Estate Brokers And Sales Agents\n",
      "3                             ENG-Mechanical Engineers\n",
      "4                                         SAL-Cashiers\n",
      "Name: OCCP, dtype: object\n",
      "Id\n",
      "0    CLN\n",
      "1    SAL\n",
      "2    SAL\n",
      "3    ENG\n",
      "4    SAL\n",
      "Name: OCCP, dtype: object\n"
     ]
    }
   ],
   "source": [
    "import pandas as pd\n",
    "\n",
    "df_dev = pd.read_csv(\"fall_project_dataset/development.csv\", index_col=0)\n",
    "df_eval = pd.read_csv(\"fall_project_dataset/evaluation.csv\", index_col=0)\n",
    "\n",
    "# Create a dictionary from the OCCP code to the text representation\n",
    "import csv\n",
    "reader = csv.reader(open('produced_documents/occp_to_string.csv', 'r'), delimiter=';')\n",
    "d = {}\n",
    "for row in reader:\n",
    "   k, v = row\n",
    "   k = float(k)\n",
    "   d[k] = v\n",
    "d\n",
    "\n",
    "# Map the OCCP column to its text values\n",
    "df_dev[\"OCCP\"] = df_dev[\"OCCP\"].map(d)\n",
    "print(df_dev[\"OCCP\"].head(5))\n",
    "\n",
    "# Keep only the first 3 characters \n",
    "df_dev[\"OCCP\"] = df_dev[\"OCCP\"].apply(lambda occp : occp[0:3])\n",
    "print(df_dev[\"OCCP\"].head(5))"
   ]
  },
  {
   "cell_type": "markdown",
   "metadata": {},
   "source": [
    "## Preprocessing step\n",
    "\n",
    "I scale all the numeric features through a standard scaling and encode all the categorical features through one-hot encoding"
   ]
  },
  {
   "cell_type": "code",
   "execution_count": 56,
   "metadata": {},
   "outputs": [],
   "source": [
    "from sklearn.compose import ColumnTransformer\n",
    "from sklearn.preprocessing import StandardScaler, OneHotEncoder\n",
    "\n",
    "numeric_features = ['PINCP', 'WKHP']\n",
    "numeric_transformer = StandardScaler()\n",
    "\n",
    "categorical_features = ['FDEYEP', 'ENG', 'OC', 'COW', 'HICOV', 'LANP', 'FER', 'MIGSP', 'SCHL', 'MIG', 'VPS', 'MIL', 'MAR', 'OCCP', 'PAOC', 'PUBCOV', 'DEAR', 'JWAP', 'JWDP', 'POBP', 'SEX', 'RAC1P']\n",
    "categorical_transformer = OneHotEncoder(handle_unknown='infrequent_if_exist')\n",
    "\n",
    "preprocessor = ColumnTransformer(\n",
    "    transformers=[\n",
    "        ('num', numeric_transformer, numeric_features),\n",
    "        ('cat', categorical_transformer, categorical_features)])"
   ]
  },
  {
   "cell_type": "markdown",
   "metadata": {},
   "source": [
    "## Pipeline definition"
   ]
  },
  {
   "cell_type": "code",
   "execution_count": 3,
   "metadata": {},
   "outputs": [],
   "source": [
    "from sklearn.pipeline import Pipeline\n",
    "from sklearn.linear_model import LogisticRegression\n",
    "\n",
    "clf = Pipeline(steps=[('preprocessor', preprocessor),\n",
    "                      ('classifier', LogisticRegression(max_iter=10000))])"
   ]
  },
  {
   "cell_type": "markdown",
   "metadata": {},
   "source": [
    "## Train-test split"
   ]
  },
  {
   "cell_type": "code",
   "execution_count": 57,
   "metadata": {},
   "outputs": [],
   "source": [
    "from sklearn.model_selection import train_test_split\n",
    "\n",
    "X = df_dev.drop(columns=[\"JWMNP\"])\n",
    "y = df_dev[\"JWMNP\"]\n",
    "\n",
    "X_train, X_test, y_train, y_test = train_test_split(X, y, test_size=0.2, random_state=42)"
   ]
  },
  {
   "cell_type": "markdown",
   "metadata": {},
   "source": [
    "## Fit the model"
   ]
  },
  {
   "cell_type": "code",
   "execution_count": 32,
   "metadata": {},
   "outputs": [
    {
     "name": "stdout",
     "output_type": "stream",
     "text": [
      "model score: 0.644\n"
     ]
    }
   ],
   "source": [
    "clf.fit(X_train, y_train)\n",
    "print(\"model score: %.3f\" % clf.score(X_test, y_test))"
   ]
  },
  {
   "cell_type": "markdown",
   "metadata": {},
   "source": [
    "## Pipeline with random forest"
   ]
  },
  {
   "cell_type": "code",
   "execution_count": 33,
   "metadata": {},
   "outputs": [
    {
     "name": "stdout",
     "output_type": "stream",
     "text": [
      "model score: 0.739\n"
     ]
    }
   ],
   "source": [
    "from sklearn.ensemble import RandomForestRegressor\n",
    "\n",
    "forest = Pipeline(steps=[('preprocessor', preprocessor),\n",
    "                      ('classifier', RandomForestRegressor(10, random_state=42))])\n",
    "forest.fit(X_train, y_train)\n",
    "print(\"model score: %.3f\" % forest.score(X_test, y_test))"
   ]
  },
  {
   "cell_type": "markdown",
   "metadata": {},
   "source": [
    "## GridSearch RandomForest\n",
    "\n",
    "First method with RandomForestRegressor"
   ]
  },
  {
   "cell_type": "code",
   "execution_count": null,
   "metadata": {},
   "outputs": [],
   "source": [
    "from sklearn.model_selection import GridSearchCV\n",
    "from sklearn.ensemble import RandomForestRegressor\n",
    "\n",
    "pipe = Pipeline(steps=[('preprocessor', preprocessor),\n",
    "                      ('classifier', RandomForestRegressor())])\n",
    "\n",
    "param_grid={\n",
    "    'classifier__n_estimators': [10, 50, 100],\n",
    "    'classifier__max_features': [1.0, 'sqrt', 'log2'],\n",
    "    'classifier__bootstrap': [True, False]\n",
    "}\n",
    "\n",
    "search = GridSearchCV(pipe, param_grid, n_jobs=6)\n",
    "\n",
    "search.fit(X_train, y_train)\n",
    "\n",
    "print(\"Best parameter (CV score=%0.3f):\" % search.best_score_)\n",
    "print(f\"Best parameters: {search.best_params_}\")\n",
    "print(\"Best estimator score on test data: %.3f\" % search.best_estimator_.score(X_test, y_test))"
   ]
  },
  {
   "cell_type": "markdown",
   "metadata": {},
   "source": [
    "Second method with RandomForestClassifier\n",
    "\n",
    "Best parameter (CV score=0.267)  \n",
    "Best parameters: {'classifier__bootstrap': True, 'classifier__criterion': 'gini', 'classifier__max_features': 1.0, 'classifier__n_estimators': 100}  \n",
    "Best estimator score on test data: 0.889  \n",
    "\n",
    "#### Reducing the dimension of the OCCP column:\n",
    "\n",
    "Best parameter (CV score=0.267)  \n",
    "Best parameters: {'classifier__bootstrap': True, 'classifier__criterion': 'gini', 'classifier__max_features': 1.0, 'classifier__n_estimators': 100}  \n",
    "Best estimator score on test data: 0.888  "
   ]
  },
  {
   "cell_type": "code",
   "execution_count": 59,
   "metadata": {},
   "outputs": [
    {
     "name": "stderr",
     "output_type": "stream",
     "text": [
      "/opt/homebrew/lib/python3.11/site-packages/sklearn/model_selection/_split.py:725: UserWarning:\n",
      "\n",
      "The least populated class in y has only 1 members, which is less than n_splits=5.\n",
      "\n",
      "/opt/homebrew/lib/python3.11/site-packages/joblib/externals/loky/process_executor.py:752: UserWarning:\n",
      "\n",
      "A worker stopped while some jobs were given to the executor. This can be caused by a too short worker timeout or by a memory leak.\n",
      "\n"
     ]
    },
    {
     "name": "stdout",
     "output_type": "stream",
     "text": [
      "Best parameter (CV score=0.267)\n",
      "Best parameters: {'classifier__bootstrap': True, 'classifier__criterion': 'gini', 'classifier__max_features': 1.0, 'classifier__n_estimators': 100}\n",
      "Best estimator score on test data: 0.888\n"
     ]
    }
   ],
   "source": [
    "from sklearn.model_selection import GridSearchCV\n",
    "from sklearn.ensemble import RandomForestClassifier\n",
    "\n",
    "pipe = Pipeline(steps=[('preprocessor', preprocessor),\n",
    "                      ('classifier', RandomForestClassifier())])\n",
    "\n",
    "param_grid={\n",
    "    'classifier__n_estimators': [10, 50, 100],\n",
    "    'classifier__criterion': ['gini', 'entropy', 'log_loss'],\n",
    "    'classifier__max_features': [1.0, 'sqrt', 'log2'],\n",
    "    'classifier__bootstrap': [True, False]\n",
    "}\n",
    "\n",
    "search = GridSearchCV(pipe, param_grid, scoring=\"f1_macro\", n_jobs=6)\n",
    "\n",
    "search.fit(X_train, y_train)\n",
    "\n",
    "print(\"Best parameter (CV score=%0.3f)\" % search.best_score_)\n",
    "print(f\"Best parameters: {search.best_params_}\")\n",
    "print(\"Best estimator score on test data: %.3f\" % search.best_estimator_.score(X_test, y_test))"
   ]
  },
  {
   "cell_type": "markdown",
   "metadata": {},
   "source": [
    "# Dimensionality reduction implementation"
   ]
  },
  {
   "cell_type": "code",
   "execution_count": 7,
   "metadata": {},
   "outputs": [
    {
     "name": "stdout",
     "output_type": "stream",
     "text": [
      "model score: 0.647\n"
     ]
    }
   ],
   "source": [
    "from sklearn.pipeline import Pipeline\n",
    "from sklearn.decomposition import TruncatedSVD\n",
    "from sklearn.ensemble import RandomForestClassifier\n",
    "\n",
    "red_dim_forest = Pipeline(steps=[('preprocessor', preprocessor),\n",
    "                      ('dim_reduction', TruncatedSVD(n_components=100)),\n",
    "                      ('classifier', RandomForestClassifier(random_state=42, criterion='gini', max_features=1.0, n_estimators=100, n_jobs=6))])\n",
    "\n",
    "red_dim_forest.fit(X_train, y_train)\n",
    "print(\"model score: %.3f\" % red_dim_forest.score(X_test, y_test))"
   ]
  },
  {
   "cell_type": "code",
   "execution_count": null,
   "metadata": {},
   "outputs": [],
   "source": [
    "from sklearn.pipeline import Pipeline\n",
    "from sklearn.decomposition import TruncatedSVD\n",
    "from sklearn.ensemble import RandomForestClassifier\n",
    "\n",
    "red_dim_forest = Pipeline(steps=[('preprocessor', preprocessor),\n",
    "                      ('dim_reduction', TruncatedSVD(n_components=500)),\n",
    "                      ('classifier', RandomForestClassifier(random_state=42, criterion='gini', max_features=1.0, n_estimators=100, n_jobs=6))])\n",
    "\n",
    "red_dim_forest.fit(X_train, y_train)\n",
    "print(\"model score: %.3f\" % red_dim_forest.score(X_test, y_test))"
   ]
  },
  {
   "cell_type": "markdown",
   "metadata": {},
   "source": [
    "# Graphical Analysis"
   ]
  },
  {
   "cell_type": "code",
   "execution_count": 23,
   "metadata": {},
   "outputs": [
    {
     "data": {
      "application/vnd.plotly.v1+json": {
       "config": {
        "plotlyServerURL": "https://plot.ly"
       },
       "data": [
        {
         "alignmentgroup": "True",
         "bingroup": "x",
         "hovertemplate": "MIGSP=%{x}<br>count=%{y}<extra></extra>",
         "legendgroup": "",
         "marker": {
          "color": "#636efa",
          "pattern": {
           "shape": ""
          }
         },
         "name": "",
         "offsetgroup": "",
         "orientation": "v",
         "showlegend": false,
         "type": "histogram",
         "x": [
          53,
          48,
          37,
          25,
          373,
          41,
          36,
          36,
          17,
          217,
          48,
          39,
          27,
          26,
          42,
          303,
          26,
          36,
          440,
          45,
          48,
          17,
          48,
          29,
          40,
          215,
          15,
          12,
          233,
          370,
          41,
          210,
          30,
          36,
          36,
          36,
          29,
          215,
          303,
          4,
          36,
          8,
          34,
          110,
          41,
          301,
          24,
          53,
          48,
          313,
          215,
          37,
          28,
          215,
          36,
          8,
          252,
          34,
          37,
          48,
          317,
          35,
          44,
          8,
          4,
          48,
          114,
          13,
          303,
          36,
          22,
          362,
          18,
          37,
          49,
          48,
          215,
          53,
          45,
          37,
          56,
          32,
          53,
          217,
          24,
          56,
          51,
          12,
          207,
          41,
          111,
          303,
          303,
          215,
          25,
          138,
          4,
          20,
          12,
          42,
          39,
          42,
          31,
          13,
          22,
          42,
          4,
          215,
          32,
          39,
          25,
          22,
          27,
          12,
          27,
          37,
          233,
          17,
          53,
          8,
          12,
          28,
          42,
          8,
          51,
          8,
          48,
          48,
          215,
          25,
          17,
          4,
          210,
          49,
          53,
          15,
          19,
          313,
          501,
          45,
          15,
          53,
          39,
          26,
          53,
          25,
          373,
          207,
          13,
          25,
          2,
          4,
          49,
          1,
          113,
          24,
          48,
          41,
          29,
          53,
          17,
          303,
          313,
          28,
          440,
          12,
          36,
          12,
          12,
          138,
          4,
          13,
          252,
          41,
          251,
          37,
          210,
          25,
          26,
          110,
          36,
          29,
          22,
          31,
          22,
          8,
          114,
          48,
          53,
          32,
          49,
          48,
          12,
          8,
          47,
          17,
          207,
          139,
          40,
          247,
          303,
          32,
          17,
          36,
          41,
          48,
          215,
          55,
          17,
          42,
          39,
          17,
          39,
          12,
          47,
          33,
          34,
          555,
          45,
          301,
          215,
          47,
          53,
          210,
          42,
          4,
          53,
          32,
          48,
          18,
          41,
          8,
          374,
          51,
          26,
          39,
          17,
          41,
          210,
          251,
          12,
          41,
          303,
          109,
          215,
          303,
          20,
          53,
          8,
          9,
          53,
          303,
          4,
          4,
          17,
          253,
          13,
          40,
          109,
          8,
          217,
          317,
          53,
          251,
          42,
          200,
          42,
          29,
          25,
          344,
          53,
          27,
          41,
          303,
          12,
          210,
          45,
          303,
          17,
          48,
          34,
          41,
          25,
          53,
          4,
          30,
          12,
          42,
          25,
          53,
          22,
          35,
          40,
          36,
          48,
          32,
          252,
          215,
          4,
          5,
          45,
          13,
          51,
          51,
          49,
          217,
          36,
          53,
          18,
          4,
          301,
          30,
          207,
          17,
          25,
          51,
          4,
          34,
          32,
          45,
          4,
          53,
          8,
          51,
          40,
          18,
          17,
          4,
          42,
          47,
          110,
          303,
          215,
          37,
          35,
          48,
          16,
          12,
          26,
          301,
          9,
          53,
          301,
          25,
          24,
          26,
          27,
          12,
          19,
          12,
          16,
          12,
          12,
          41,
          314,
          23,
          55,
          12,
          17,
          17,
          39,
          21,
          163,
          45,
          555,
          25,
          34,
          303,
          12,
          29,
          39,
          36,
          51,
          252,
          301,
          56,
          301,
          215,
          110,
          49,
          42,
          9,
          27,
          55,
          51,
          53,
          29,
          303,
          370,
          45,
          53,
          41,
          25,
          8,
          48,
          41,
          215,
          16,
          53,
          41,
          18,
          8,
          48,
          44,
          414,
          207,
          13,
          240,
          44,
          27,
          38,
          303,
          32,
          36,
          45,
          32,
          301,
          8,
          17,
          303,
          36,
          26,
          25,
          28,
          42,
          53,
          4,
          49,
          47,
          27,
          48,
          36,
          252,
          4,
          48,
          42,
          217,
          18,
          24,
          39,
          72,
          34,
          27,
          252,
          314,
          48,
          8,
          11,
          4,
          303,
          37,
          12,
          16,
          9,
          13,
          4,
          210,
          17,
          18,
          9,
          36,
          53,
          1,
          18,
          42,
          17,
          4,
          17,
          48,
          210,
          110,
          22,
          20,
          42,
          48,
          251,
          20,
          27,
          233,
          48,
          301,
          51,
          17,
          303,
          53,
          48,
          53,
          28,
          4,
          210,
          233,
          8,
          39,
          8,
          53,
          47,
          251,
          4,
          25,
          48,
          12,
          42,
          48,
          16,
          32,
          15,
          303,
          72,
          51,
          32,
          8,
          32,
          4,
          41,
          36,
          110,
          17,
          440,
          36,
          13,
          40,
          109,
          48,
          48,
          48,
          41,
          29,
          48,
          11,
          48,
          207,
          200,
          32,
          36,
          17,
          303,
          15,
          11,
          54,
          12,
          32,
          1,
          27,
          207,
          36,
          19,
          39,
          4,
          48,
          41,
          8,
          32,
          364,
          4,
          18,
          40,
          48,
          39,
          215,
          48,
          8,
          303,
          26,
          8,
          8,
          53,
          114,
          8,
          19,
          36,
          210,
          217,
          17,
          110,
          8,
          53,
          53,
          215,
          364,
          17,
          1,
          35,
          40,
          55,
          251,
          36,
          34,
          303,
          34,
          55,
          42,
          9,
          17,
          8,
          39,
          9,
          18,
          35,
          243,
          19,
          468,
          51,
          39,
          113,
          8,
          17,
          17,
          36,
          114,
          8,
          312,
          42,
          53,
          32,
          41,
          17,
          36,
          36,
          303,
          13,
          40,
          32,
          48,
          8,
          215,
          138,
          44,
          217,
          21,
          49,
          37,
          25,
          139,
          48,
          34,
          468,
          301,
          36,
          40,
          48,
          4,
          25,
          8,
          48,
          4,
          416,
          36,
          38,
          555,
          252,
          53,
          45,
          48,
          303,
          33,
          36,
          48,
          20,
          217,
          30,
          8,
          12,
          22,
          37,
          17,
          37,
          4,
          27,
          27,
          39,
          8,
          134,
          53,
          48,
          301,
          32,
          12,
          251,
          41,
          16,
          42,
          36,
          39,
          301,
          45,
          15,
          555,
          303,
          36,
          303,
          42,
          39,
          48,
          12,
          1,
          48,
          17,
          469,
          12,
          53,
          41,
          17,
          51,
          36,
          32,
          12,
          36,
          111,
          53,
          17,
          36,
          200,
          48,
          45,
          53,
          17,
          47,
          36,
          30,
          210,
          138,
          29,
          12,
          36,
          34,
          51,
          17,
          39,
          36,
          15,
          51,
          22,
          27,
          8,
          53,
          36,
          22,
          35,
          53,
          12,
          13,
          13,
          12,
          45,
          4,
          38,
          55,
          8,
          18,
          251,
          303,
          374,
          48,
          48,
          215,
          113,
          215,
          313,
          48,
          1,
          41,
          16,
          11,
          36,
          17,
          8,
          41,
          301,
          303,
          4,
          45,
          34,
          39,
          251,
          27,
          36,
          51,
          36,
          49,
          15,
          13,
          34,
          34,
          30,
          39,
          48,
          32,
          18,
          24,
          303,
          501,
          42,
          8,
          53,
          501,
          55,
          215,
          41,
          253,
          36,
          215,
          240,
          26,
          22,
          303,
          314,
          37,
          41,
          48,
          27,
          39,
          39,
          20,
          49,
          252,
          9,
          36,
          344,
          24,
          303,
          53,
          8,
          55,
          36,
          41,
          48,
          29,
          42,
          29,
          41,
          30,
          36,
          48,
          53,
          301,
          370,
          303,
          53,
          18,
          210,
          29,
          17,
          15,
          217,
          49,
          37,
          114,
          25,
          48,
          317,
          314,
          53,
          303,
          48,
          16,
          51,
          8,
          114,
          25,
          16,
          39,
          12,
          8,
          42,
          24,
          8,
          48,
          303,
          36,
          39,
          44,
          4,
          35,
          215,
          36,
          37,
          51,
          5,
          12,
          53,
          48,
          440,
          48,
          39,
          247,
          12,
          12,
          501,
          215,
          42,
          51,
          215,
          48,
          53,
          4,
          317,
          5,
          110,
          47,
          29,
          303,
          210,
          31,
          53,
          17,
          217,
          4,
          45,
          303,
          22,
          26,
          207,
          4,
          215,
          200,
          53,
          303,
          42,
          9,
          48,
          36,
          252,
          45,
          18,
          17,
          15,
          39,
          303,
          501,
          53,
          53,
          303,
          25,
          41,
          303,
          39,
          207,
          4,
          32,
          48,
          25,
          35,
          27,
          32,
          51,
          48,
          314,
          4,
          215,
          48,
          15,
          215,
          39,
          16,
          17,
          34,
          233,
          45,
          303,
          303,
          48,
          37,
          4,
          51,
          12,
          37,
          4,
          53,
          215,
          313,
          32,
          12,
          8,
          25,
          12,
          48,
          39,
          215,
          28,
          27,
          15,
          26,
          48,
          303,
          15,
          51,
          373,
          49,
          48,
          113,
          17,
          37,
          42,
          4,
          41,
          44,
          26,
          32,
          12,
          317,
          215,
          12,
          313,
          49,
          303,
          1,
          5,
          37,
          12,
          215,
          45,
          41,
          303,
          55,
          251,
          51,
          34,
          41,
          8,
          53,
          17,
          38,
          37,
          48,
          36,
          17,
          36,
          25,
          25,
          27,
          8,
          41,
          36,
          39,
          8,
          303,
          40,
          36,
          41,
          18,
          41,
          215,
          4,
          50,
          49,
          240,
          22,
          17,
          113,
          53,
          113,
          48,
          55,
          207,
          24,
          303,
          13,
          41,
          51,
          312,
          53,
          48,
          1,
          48,
          303,
          53,
          15,
          303,
          18,
          217,
          53,
          36,
          364,
          26,
          4,
          29,
          17,
          26,
          4,
          42,
          42,
          12,
          36,
          32,
          34,
          303,
          12,
          29,
          12,
          301,
          111,
          11,
          34,
          26,
          303,
          37,
          4,
          47,
          17,
          8,
          247,
          12,
          36,
          27,
          32,
          37,
          48,
          9,
          8,
          301,
          313,
          48,
          4,
          53,
          24,
          215,
          26,
          303,
          120,
          12,
          26,
          252,
          12,
          42,
          138,
          16,
          53,
          215,
          9,
          21,
          48,
          42,
          48,
          39,
          32,
          4,
          34,
          8,
          55,
          39,
          42,
          41,
          110,
          12,
          12,
          24,
          8,
          48,
          12,
          242,
          312,
          24,
          12,
          51,
          53,
          8,
          110,
          21,
          16,
          17,
          41,
          51,
          45,
          48,
          4,
          48,
          53,
          48,
          25,
          4,
          45,
          53,
          19,
          48,
          312,
          41,
          139,
          4,
          215,
          12,
          53,
          15,
          555,
          555,
          303,
          36,
          217,
          12,
          8,
          37,
          39,
          31,
          41,
          40,
          15,
          253,
          12,
          8,
          48,
          53,
          36,
          25,
          19,
          312,
          42,
          253,
          469,
          9,
          48,
          253,
          207,
          49,
          32,
          12,
          303,
          56,
          37,
          27,
          9,
          34,
          8,
          25,
          53,
          25,
          303,
          313,
          48,
          42,
          33,
          53,
          41,
          53,
          37,
          48,
          207,
          32,
          12,
          51,
          51,
          207,
          18,
          12,
          53,
          303,
          36,
          34,
          30,
          370,
          555,
          25,
          8,
          26,
          109,
          364,
          39,
          55,
          303,
          303,
          37,
          370,
          110,
          48,
          36,
          16,
          15,
          440,
          34,
          215,
          8,
          37,
          4,
          34,
          17,
          555,
          45,
          48,
          113,
          29,
          40,
          36,
          303,
          53,
          51,
          13,
          13,
          1,
          15,
          233,
          4,
          40,
          27,
          26,
          8,
          362,
          47,
          317,
          39,
          41,
          20,
          5,
          215,
          4,
          29,
          37,
          51,
          9,
          215,
          312,
          16,
          19,
          37,
          32,
          17,
          12,
          12,
          4,
          251,
          8,
          215,
          20,
          48,
          27,
          200,
          26,
          26,
          47,
          31,
          29,
          48,
          17,
          217,
          39,
          36,
          215,
          233,
          53,
          55,
          138,
          15,
          12,
          19,
          12,
          217,
          252,
          36,
          36,
          47,
          53,
          42,
          48,
          17,
          42,
          29,
          41,
          215,
          303,
          37,
          303,
          207,
          51,
          48,
          251,
          46,
          27,
          48,
          25,
          120,
          28,
          19,
          16,
          8,
          13,
          42,
          247,
          49,
          12,
          215,
          29,
          215,
          32,
          8,
          26,
          48,
          24,
          303,
          24,
          53,
          32,
          303,
          8,
          4,
          41,
          25,
          17,
          114,
          17,
          36,
          47,
          40,
          303,
          41,
          4,
          37,
          32,
          139,
          26,
          53,
          35,
          29,
          25,
          8,
          303,
          34,
          48,
          18,
          72,
          12,
          26,
          362,
          53,
          110,
          17,
          110,
          46,
          17,
          4,
          313,
          8,
          501,
          13,
          48,
          210,
          48,
          362,
          48,
          41,
          53,
          48,
          41,
          48,
          39,
          12,
          2,
          468,
          53,
          48,
          37,
          48,
          4,
          37,
          17,
          26,
          51,
          22,
          501,
          18,
          4,
          32,
          15,
          25,
          12,
          33,
          8,
          53,
          44,
          53,
          12,
          12,
          55,
          9,
          41,
          37,
          303,
          37,
          21,
          48,
          36,
          26,
          53,
          34,
          36,
          26,
          139,
          210,
          27,
          27,
          53,
          51,
          139,
          55,
          53,
          42,
          8,
          313,
          303,
          17,
          8,
          39,
          39,
          17,
          25,
          200,
          41,
          29,
          51,
          51,
          207,
          20,
          215,
          19,
          51,
          240,
          55,
          42,
          113,
          41,
          56,
          39,
          1,
          36,
          19,
          469,
          312,
          4,
          45,
          48,
          303,
          49,
          27,
          4,
          17,
          110,
          8,
          34,
          51,
          48,
          37,
          4,
          303,
          22,
          138,
          36,
          41,
          8,
          26,
          53,
          32,
          39,
          4,
          1,
          20,
          303,
          19,
          11,
          48,
          109,
          555,
          53,
          12,
          37,
          28,
          210,
          4,
          19,
          240,
          48,
          17,
          51,
          37,
          28,
          17,
          17,
          45,
          12,
          8,
          207,
          51,
          251,
          51,
          253,
          42,
          27,
          15,
          12,
          29,
          39,
          41,
          240,
          32,
          8,
          22,
          109,
          48,
          301,
          12,
          45,
          24,
          53,
          303,
          55,
          11,
          41,
          253,
          35,
          45,
          215,
          40,
          39,
          9,
          17,
          25,
          40,
          53,
          27,
          45
         ],
         "xaxis": "x",
         "yaxis": "y"
        }
       ],
       "layout": {
        "bargap": 0,
        "barmode": "relative",
        "legend": {
         "tracegroupgap": 0
        },
        "margin": {
         "t": 60
        },
        "template": {
         "data": {
          "bar": [
           {
            "error_x": {
             "color": "#2a3f5f"
            },
            "error_y": {
             "color": "#2a3f5f"
            },
            "marker": {
             "line": {
              "color": "#E5ECF6",
              "width": 0.5
             },
             "pattern": {
              "fillmode": "overlay",
              "size": 10,
              "solidity": 0.2
             }
            },
            "type": "bar"
           }
          ],
          "barpolar": [
           {
            "marker": {
             "line": {
              "color": "#E5ECF6",
              "width": 0.5
             },
             "pattern": {
              "fillmode": "overlay",
              "size": 10,
              "solidity": 0.2
             }
            },
            "type": "barpolar"
           }
          ],
          "carpet": [
           {
            "aaxis": {
             "endlinecolor": "#2a3f5f",
             "gridcolor": "white",
             "linecolor": "white",
             "minorgridcolor": "white",
             "startlinecolor": "#2a3f5f"
            },
            "baxis": {
             "endlinecolor": "#2a3f5f",
             "gridcolor": "white",
             "linecolor": "white",
             "minorgridcolor": "white",
             "startlinecolor": "#2a3f5f"
            },
            "type": "carpet"
           }
          ],
          "choropleth": [
           {
            "colorbar": {
             "outlinewidth": 0,
             "ticks": ""
            },
            "type": "choropleth"
           }
          ],
          "contour": [
           {
            "colorbar": {
             "outlinewidth": 0,
             "ticks": ""
            },
            "colorscale": [
             [
              0,
              "#0d0887"
             ],
             [
              0.1111111111111111,
              "#46039f"
             ],
             [
              0.2222222222222222,
              "#7201a8"
             ],
             [
              0.3333333333333333,
              "#9c179e"
             ],
             [
              0.4444444444444444,
              "#bd3786"
             ],
             [
              0.5555555555555556,
              "#d8576b"
             ],
             [
              0.6666666666666666,
              "#ed7953"
             ],
             [
              0.7777777777777778,
              "#fb9f3a"
             ],
             [
              0.8888888888888888,
              "#fdca26"
             ],
             [
              1,
              "#f0f921"
             ]
            ],
            "type": "contour"
           }
          ],
          "contourcarpet": [
           {
            "colorbar": {
             "outlinewidth": 0,
             "ticks": ""
            },
            "type": "contourcarpet"
           }
          ],
          "heatmap": [
           {
            "colorbar": {
             "outlinewidth": 0,
             "ticks": ""
            },
            "colorscale": [
             [
              0,
              "#0d0887"
             ],
             [
              0.1111111111111111,
              "#46039f"
             ],
             [
              0.2222222222222222,
              "#7201a8"
             ],
             [
              0.3333333333333333,
              "#9c179e"
             ],
             [
              0.4444444444444444,
              "#bd3786"
             ],
             [
              0.5555555555555556,
              "#d8576b"
             ],
             [
              0.6666666666666666,
              "#ed7953"
             ],
             [
              0.7777777777777778,
              "#fb9f3a"
             ],
             [
              0.8888888888888888,
              "#fdca26"
             ],
             [
              1,
              "#f0f921"
             ]
            ],
            "type": "heatmap"
           }
          ],
          "heatmapgl": [
           {
            "colorbar": {
             "outlinewidth": 0,
             "ticks": ""
            },
            "colorscale": [
             [
              0,
              "#0d0887"
             ],
             [
              0.1111111111111111,
              "#46039f"
             ],
             [
              0.2222222222222222,
              "#7201a8"
             ],
             [
              0.3333333333333333,
              "#9c179e"
             ],
             [
              0.4444444444444444,
              "#bd3786"
             ],
             [
              0.5555555555555556,
              "#d8576b"
             ],
             [
              0.6666666666666666,
              "#ed7953"
             ],
             [
              0.7777777777777778,
              "#fb9f3a"
             ],
             [
              0.8888888888888888,
              "#fdca26"
             ],
             [
              1,
              "#f0f921"
             ]
            ],
            "type": "heatmapgl"
           }
          ],
          "histogram": [
           {
            "marker": {
             "pattern": {
              "fillmode": "overlay",
              "size": 10,
              "solidity": 0.2
             }
            },
            "type": "histogram"
           }
          ],
          "histogram2d": [
           {
            "colorbar": {
             "outlinewidth": 0,
             "ticks": ""
            },
            "colorscale": [
             [
              0,
              "#0d0887"
             ],
             [
              0.1111111111111111,
              "#46039f"
             ],
             [
              0.2222222222222222,
              "#7201a8"
             ],
             [
              0.3333333333333333,
              "#9c179e"
             ],
             [
              0.4444444444444444,
              "#bd3786"
             ],
             [
              0.5555555555555556,
              "#d8576b"
             ],
             [
              0.6666666666666666,
              "#ed7953"
             ],
             [
              0.7777777777777778,
              "#fb9f3a"
             ],
             [
              0.8888888888888888,
              "#fdca26"
             ],
             [
              1,
              "#f0f921"
             ]
            ],
            "type": "histogram2d"
           }
          ],
          "histogram2dcontour": [
           {
            "colorbar": {
             "outlinewidth": 0,
             "ticks": ""
            },
            "colorscale": [
             [
              0,
              "#0d0887"
             ],
             [
              0.1111111111111111,
              "#46039f"
             ],
             [
              0.2222222222222222,
              "#7201a8"
             ],
             [
              0.3333333333333333,
              "#9c179e"
             ],
             [
              0.4444444444444444,
              "#bd3786"
             ],
             [
              0.5555555555555556,
              "#d8576b"
             ],
             [
              0.6666666666666666,
              "#ed7953"
             ],
             [
              0.7777777777777778,
              "#fb9f3a"
             ],
             [
              0.8888888888888888,
              "#fdca26"
             ],
             [
              1,
              "#f0f921"
             ]
            ],
            "type": "histogram2dcontour"
           }
          ],
          "mesh3d": [
           {
            "colorbar": {
             "outlinewidth": 0,
             "ticks": ""
            },
            "type": "mesh3d"
           }
          ],
          "parcoords": [
           {
            "line": {
             "colorbar": {
              "outlinewidth": 0,
              "ticks": ""
             }
            },
            "type": "parcoords"
           }
          ],
          "pie": [
           {
            "automargin": true,
            "type": "pie"
           }
          ],
          "scatter": [
           {
            "fillpattern": {
             "fillmode": "overlay",
             "size": 10,
             "solidity": 0.2
            },
            "type": "scatter"
           }
          ],
          "scatter3d": [
           {
            "line": {
             "colorbar": {
              "outlinewidth": 0,
              "ticks": ""
             }
            },
            "marker": {
             "colorbar": {
              "outlinewidth": 0,
              "ticks": ""
             }
            },
            "type": "scatter3d"
           }
          ],
          "scattercarpet": [
           {
            "marker": {
             "colorbar": {
              "outlinewidth": 0,
              "ticks": ""
             }
            },
            "type": "scattercarpet"
           }
          ],
          "scattergeo": [
           {
            "marker": {
             "colorbar": {
              "outlinewidth": 0,
              "ticks": ""
             }
            },
            "type": "scattergeo"
           }
          ],
          "scattergl": [
           {
            "marker": {
             "colorbar": {
              "outlinewidth": 0,
              "ticks": ""
             }
            },
            "type": "scattergl"
           }
          ],
          "scattermapbox": [
           {
            "marker": {
             "colorbar": {
              "outlinewidth": 0,
              "ticks": ""
             }
            },
            "type": "scattermapbox"
           }
          ],
          "scatterpolar": [
           {
            "marker": {
             "colorbar": {
              "outlinewidth": 0,
              "ticks": ""
             }
            },
            "type": "scatterpolar"
           }
          ],
          "scatterpolargl": [
           {
            "marker": {
             "colorbar": {
              "outlinewidth": 0,
              "ticks": ""
             }
            },
            "type": "scatterpolargl"
           }
          ],
          "scatterternary": [
           {
            "marker": {
             "colorbar": {
              "outlinewidth": 0,
              "ticks": ""
             }
            },
            "type": "scatterternary"
           }
          ],
          "surface": [
           {
            "colorbar": {
             "outlinewidth": 0,
             "ticks": ""
            },
            "colorscale": [
             [
              0,
              "#0d0887"
             ],
             [
              0.1111111111111111,
              "#46039f"
             ],
             [
              0.2222222222222222,
              "#7201a8"
             ],
             [
              0.3333333333333333,
              "#9c179e"
             ],
             [
              0.4444444444444444,
              "#bd3786"
             ],
             [
              0.5555555555555556,
              "#d8576b"
             ],
             [
              0.6666666666666666,
              "#ed7953"
             ],
             [
              0.7777777777777778,
              "#fb9f3a"
             ],
             [
              0.8888888888888888,
              "#fdca26"
             ],
             [
              1,
              "#f0f921"
             ]
            ],
            "type": "surface"
           }
          ],
          "table": [
           {
            "cells": {
             "fill": {
              "color": "#EBF0F8"
             },
             "line": {
              "color": "white"
             }
            },
            "header": {
             "fill": {
              "color": "#C8D4E3"
             },
             "line": {
              "color": "white"
             }
            },
            "type": "table"
           }
          ]
         },
         "layout": {
          "annotationdefaults": {
           "arrowcolor": "#2a3f5f",
           "arrowhead": 0,
           "arrowwidth": 1
          },
          "autotypenumbers": "strict",
          "coloraxis": {
           "colorbar": {
            "outlinewidth": 0,
            "ticks": ""
           }
          },
          "colorscale": {
           "diverging": [
            [
             0,
             "#8e0152"
            ],
            [
             0.1,
             "#c51b7d"
            ],
            [
             0.2,
             "#de77ae"
            ],
            [
             0.3,
             "#f1b6da"
            ],
            [
             0.4,
             "#fde0ef"
            ],
            [
             0.5,
             "#f7f7f7"
            ],
            [
             0.6,
             "#e6f5d0"
            ],
            [
             0.7,
             "#b8e186"
            ],
            [
             0.8,
             "#7fbc41"
            ],
            [
             0.9,
             "#4d9221"
            ],
            [
             1,
             "#276419"
            ]
           ],
           "sequential": [
            [
             0,
             "#0d0887"
            ],
            [
             0.1111111111111111,
             "#46039f"
            ],
            [
             0.2222222222222222,
             "#7201a8"
            ],
            [
             0.3333333333333333,
             "#9c179e"
            ],
            [
             0.4444444444444444,
             "#bd3786"
            ],
            [
             0.5555555555555556,
             "#d8576b"
            ],
            [
             0.6666666666666666,
             "#ed7953"
            ],
            [
             0.7777777777777778,
             "#fb9f3a"
            ],
            [
             0.8888888888888888,
             "#fdca26"
            ],
            [
             1,
             "#f0f921"
            ]
           ],
           "sequentialminus": [
            [
             0,
             "#0d0887"
            ],
            [
             0.1111111111111111,
             "#46039f"
            ],
            [
             0.2222222222222222,
             "#7201a8"
            ],
            [
             0.3333333333333333,
             "#9c179e"
            ],
            [
             0.4444444444444444,
             "#bd3786"
            ],
            [
             0.5555555555555556,
             "#d8576b"
            ],
            [
             0.6666666666666666,
             "#ed7953"
            ],
            [
             0.7777777777777778,
             "#fb9f3a"
            ],
            [
             0.8888888888888888,
             "#fdca26"
            ],
            [
             1,
             "#f0f921"
            ]
           ]
          },
          "colorway": [
           "#636efa",
           "#EF553B",
           "#00cc96",
           "#ab63fa",
           "#FFA15A",
           "#19d3f3",
           "#FF6692",
           "#B6E880",
           "#FF97FF",
           "#FECB52"
          ],
          "font": {
           "color": "#2a3f5f"
          },
          "geo": {
           "bgcolor": "white",
           "lakecolor": "white",
           "landcolor": "#E5ECF6",
           "showlakes": true,
           "showland": true,
           "subunitcolor": "white"
          },
          "hoverlabel": {
           "align": "left"
          },
          "hovermode": "closest",
          "mapbox": {
           "style": "light"
          },
          "paper_bgcolor": "white",
          "plot_bgcolor": "#E5ECF6",
          "polar": {
           "angularaxis": {
            "gridcolor": "white",
            "linecolor": "white",
            "ticks": ""
           },
           "bgcolor": "#E5ECF6",
           "radialaxis": {
            "gridcolor": "white",
            "linecolor": "white",
            "ticks": ""
           }
          },
          "scene": {
           "xaxis": {
            "backgroundcolor": "#E5ECF6",
            "gridcolor": "white",
            "gridwidth": 2,
            "linecolor": "white",
            "showbackground": true,
            "ticks": "",
            "zerolinecolor": "white"
           },
           "yaxis": {
            "backgroundcolor": "#E5ECF6",
            "gridcolor": "white",
            "gridwidth": 2,
            "linecolor": "white",
            "showbackground": true,
            "ticks": "",
            "zerolinecolor": "white"
           },
           "zaxis": {
            "backgroundcolor": "#E5ECF6",
            "gridcolor": "white",
            "gridwidth": 2,
            "linecolor": "white",
            "showbackground": true,
            "ticks": "",
            "zerolinecolor": "white"
           }
          },
          "shapedefaults": {
           "line": {
            "color": "#2a3f5f"
           }
          },
          "ternary": {
           "aaxis": {
            "gridcolor": "white",
            "linecolor": "white",
            "ticks": ""
           },
           "baxis": {
            "gridcolor": "white",
            "linecolor": "white",
            "ticks": ""
           },
           "bgcolor": "#E5ECF6",
           "caxis": {
            "gridcolor": "white",
            "linecolor": "white",
            "ticks": ""
           }
          },
          "title": {
           "x": 0.05
          },
          "xaxis": {
           "automargin": true,
           "gridcolor": "white",
           "linecolor": "white",
           "ticks": "",
           "title": {
            "standoff": 15
           },
           "zerolinecolor": "white",
           "zerolinewidth": 2
          },
          "yaxis": {
           "automargin": true,
           "gridcolor": "white",
           "linecolor": "white",
           "ticks": "",
           "title": {
            "standoff": 15
           },
           "zerolinecolor": "white",
           "zerolinewidth": 2
          }
         }
        },
        "xaxis": {
         "anchor": "y",
         "domain": [
          0,
          1
         ],
         "title": {
          "text": "MIGSP"
         }
        },
        "yaxis": {
         "anchor": "x",
         "domain": [
          0,
          1
         ],
         "title": {
          "text": "count"
         }
        }
       }
      }
     },
     "metadata": {},
     "output_type": "display_data"
    }
   ],
   "source": [
    "import plotly.express as px\n",
    "# cityCount[cityCount[\"city\"].str.contains(\"gsv\")]\n",
    "fig = px.histogram(df_dev[(df_dev[\"MIGSP\"]!=0) & (df_dev[\"MIGSP\"]!=6)], x=\"MIGSP\")\n",
    "fig.update_layout(\n",
    "    bargap=0\n",
    ")\n",
    "fig.show()"
   ]
  }
 ],
 "metadata": {
  "kernelspec": {
   "display_name": "Python 3",
   "language": "python",
   "name": "python3"
  },
  "language_info": {
   "codemirror_mode": {
    "name": "ipython",
    "version": 3
   },
   "file_extension": ".py",
   "mimetype": "text/x-python",
   "name": "python",
   "nbconvert_exporter": "python",
   "pygments_lexer": "ipython3",
   "version": "3.11.5"
  },
  "orig_nbformat": 4
 },
 "nbformat": 4,
 "nbformat_minor": 2
}
